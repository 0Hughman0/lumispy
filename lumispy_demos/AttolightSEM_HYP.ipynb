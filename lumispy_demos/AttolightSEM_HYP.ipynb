{
 "cells": [
  {
   "cell_type": "markdown",
   "metadata": {},
   "source": [
    "# Demo for LumiSpy package working with AttoLight SEM CL data\n",
    "\n",
    "This notebook shows:\n",
    "\n",
    "- Loading a 'HYPCard.bin' file correctly with the lumispy load function\n",
    "- Plotting cathodoluminescence data in different ways\n",
    "- Dealing with metadata\n",
    "- Correcting for spectral defects"
   ]
  },
  {
   "cell_type": "code",
   "execution_count": 1,
   "metadata": {},
   "outputs": [],
   "source": [
    "%matplotlib qt \n",
    "#%matplotlib inline\n",
    "import lumispy as lum"
   ]
  },
  {
   "cell_type": "code",
   "execution_count": 31,
   "metadata": {},
   "outputs": [],
   "source": [
    "cl_sem = lum.load_hypcard(\"DemoSample_192EF1E8-2AD5-4956-A718-BDAE8E3FAA0C/HYPCard.bin\")"
   ]
  },
  {
   "cell_type": "code",
   "execution_count": 3,
   "metadata": {},
   "outputs": [],
   "source": [
    "cl_sem.plot()"
   ]
  },
  {
   "cell_type": "code",
   "execution_count": 32,
   "metadata": {},
   "outputs": [
    {
     "data": {
      "text/plain": [
       "├── Acquisition_instrument\n",
       "│   ├── SEM\n",
       "│   │   ├── CCD\n",
       "│   │   │   ├── binning = 1\n",
       "│   │   │   └── channels = 1024\n",
       "│   │   ├── FOV = 1317.35998\n",
       "│   │   ├── Spectrometer\n",
       "│   │   │   ├── central_wavelength = 760.0\n",
       "│   │   │   └── grating = 150.0\n",
       "│   │   ├── resolution_x = 128\n",
       "│   │   └── resolution_y = 128\n",
       "│   └── acquisition_system = cambridge_attolight\n",
       "├── General\n",
       "│   └── title = DemoSample\n",
       "└── Signal\n",
       "    ├── binned = False\n",
       "    └── signal_type = cl_sem_spectrum"
      ]
     },
     "execution_count": 32,
     "metadata": {},
     "output_type": "execute_result"
    }
   ],
   "source": [
    "cl_sem.metadata"
   ]
  },
  {
   "cell_type": "code",
   "execution_count": 35,
   "metadata": {},
   "outputs": [
    {
     "data": {
      "application/vnd.jupyter.widget-view+json": {
       "model_id": "93e22ce3efbc4fa7a4b0facc6719b863",
       "version_major": 2,
       "version_minor": 0
      },
      "text/plain": [
       "HBox(children=(IntProgress(value=0, max=16384), HTML(value='')))"
      ]
     },
     "metadata": {},
     "output_type": "display_data"
    }
   ],
   "source": [
    "cl_sem.correct_grating_shift()"
   ]
  },
  {
   "cell_type": "code",
   "execution_count": 11,
   "metadata": {},
   "outputs": [
    {
     "name": "stdout",
     "output_type": "stream",
     "text": [
      "\n"
     ]
    }
   ],
   "source": [
    "cl_sem.plot()"
   ]
  },
  {
   "cell_type": "code",
   "execution_count": null,
   "metadata": {},
   "outputs": [],
   "source": []
  }
 ],
 "metadata": {
  "kernelspec": {
   "display_name": "Python 3",
   "language": "python",
   "name": "python3"
  },
  "language_info": {
   "codemirror_mode": {
    "name": "ipython",
    "version": 3
   },
   "file_extension": ".py",
   "mimetype": "text/x-python",
   "name": "python",
   "nbconvert_exporter": "python",
   "pygments_lexer": "ipython3",
   "version": "3.6.9"
  }
 },
 "nbformat": 4,
 "nbformat_minor": 4
}
